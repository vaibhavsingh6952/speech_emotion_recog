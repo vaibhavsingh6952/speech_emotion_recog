{
 "cells": [
  {
   "cell_type": "code",
   "execution_count": 59,
   "metadata": {
    "id": "_IehQoF0pZxl"
   },
   "outputs": [],
   "source": [
    "import librosa\n",
    "import soundfile\n",
    "import os, glob, pickle\n",
    "import numpy as np\n",
    "from sklearn.model_selection import train_test_split\n",
    "from sklearn.neural_network import MLPClassifier\n",
    "from sklearn.metrics import accuracy_score"
   ]
  },
  {
   "cell_type": "code",
   "execution_count": 60,
   "metadata": {
    "id": "cOrKu9Cnphen"
   },
   "outputs": [],
   "source": [
    "#Extract features (mfcc, chroma, mel) from a sound file\n",
    "def extract_feature(file_name, mfcc, chroma, mel):\n",
    "    with soundfile.SoundFile(file_name) as sound_file:\n",
    "        X = sound_file.read(dtype=\"float32\")\n",
    "        sample_rate=sound_file.samplerate\n",
    "        if chroma:\n",
    "            stft=np.abs(librosa.stft(X))\n",
    "        result=np.array([])\n",
    "        if mfcc:\n",
    "            mfccs=np.mean(librosa.feature.mfcc(y=X, sr=sample_rate, n_mfcc=40).T, axis=0)\n",
    "            result=np.hstack((result, mfccs))\n",
    "        if chroma:\n",
    "            chroma=np.mean(librosa.feature.chroma_stft(S=stft, sr=sample_rate).T,axis=0)\n",
    "            result=np.hstack((result, chroma))\n",
    "        if mel:\n",
    "            mel=np.mean(librosa.feature.melspectrogram(y=X, sr=sample_rate).T,axis=0)\n",
    "            result=np.hstack((result, mel))\n",
    "    return result"
   ]
  },
  {
   "cell_type": "code",
   "execution_count": 61,
   "metadata": {
    "id": "ljV0QLcXpmRP"
   },
   "outputs": [],
   "source": [
    "# Emotions in the RAVDESS dataset\n",
    "emotions={\n",
    "  '01':'neutral',\n",
    "  '02':'calm',\n",
    "  '03':'happy',\n",
    "  '04':'sad',\n",
    "  '05':'angry',\n",
    "  '06':'fearful',\n",
    "  '07':'disgust',\n",
    "  '08':'surprised'\n",
    "}\n",
    "\n",
    "#Emotions to observe\n",
    "observed_emotions=['calm', 'happy', 'fearful', 'disgust']"
   ]
  },
  {
   "cell_type": "code",
   "execution_count": 62,
   "metadata": {
    "id": "O46uIg3kpzrG"
   },
   "outputs": [],
   "source": [
    "#Load the data and extract features for each sound file Actor_*/*.wav\n",
    "def load_data(test_size=0.2):\n",
    "    x,y=[],[]\n",
    "    for file in glob.glob(\"C:/Users/Vaibhav Singh Takuli/OneDrive/Desktop/speech-emotion-recognition-ravdess-data/Actor_*/*.wav\"):\n",
    "        file_name=os.path.basename(file)\n",
    "        emotion=emotions[file_name.split(\"-\")[2]]\n",
    "        if emotion not in observed_emotions:\n",
    "            continue\n",
    "        feature=extract_feature(file, mfcc=True, chroma=True, mel=True)\n",
    "        x.append(feature)\n",
    "        y.append(emotion)\n",
    "    return train_test_split(np.array(x), y, test_size=test_size, random_state=9)"
   ]
  },
  {
   "cell_type": "code",
   "execution_count": 63,
   "metadata": {
    "id": "gE_MSQYDqPqg"
   },
   "outputs": [
    {
     "data": {
      "text/plain": [
       "array([[-5.22061890e+02,  3.50668907e+01,  3.75342965e+00, ...,\n",
       "         1.65243153e-04,  1.04321596e-04,  6.55571566e-05],\n",
       "       [-6.41227722e+02,  4.49487762e+01, -1.85174108e+00, ...,\n",
       "         3.89261913e-05,  3.05255380e-05,  2.94166657e-05],\n",
       "       [-6.50705750e+02,  5.30211639e+01, -4.92040443e+00, ...,\n",
       "         4.75216802e-05,  3.46632514e-05,  1.62844426e-05],\n",
       "       ...,\n",
       "       [-5.50096191e+02,  1.70297680e+01, -1.14575644e+01, ...,\n",
       "         1.51764631e-04,  1.16828531e-04,  8.47479314e-05],\n",
       "       [-5.55357605e+02,  4.71569710e+01,  1.10750732e+01, ...,\n",
       "         1.61086471e-04,  1.04962463e-04,  6.52811723e-05],\n",
       "       [-5.04816345e+02,  3.53618660e+01, -1.43495789e+01, ...,\n",
       "         6.08151546e-04,  5.55269769e-04,  4.47782222e-04]])"
      ]
     },
     "execution_count": 63,
     "metadata": {},
     "output_type": "execute_result"
    }
   ],
   "source": [
    "#Split the dataset\n",
    "x_train,x_test,y_train,y_test=load_data(test_size=0.25)\n",
    "x_train"
   ]
  },
  {
   "cell_type": "code",
   "execution_count": 64,
   "metadata": {
    "colab": {
     "base_uri": "https://localhost:8080/"
    },
    "id": "cNIOCRQ6qWOq",
    "outputId": "614efdc6-f7bb-445b-d90b-034cd79feaa1"
   },
   "outputs": [
    {
     "name": "stdout",
     "output_type": "stream",
     "text": [
      "(576, 192)\n"
     ]
    }
   ],
   "source": [
    "#Get the shape of the training and testing datasets\n",
    "print((x_train.shape[0], x_test.shape[0]))"
   ]
  },
  {
   "cell_type": "code",
   "execution_count": 65,
   "metadata": {
    "colab": {
     "base_uri": "https://localhost:8080/"
    },
    "id": "XqoLMHgsqcP8",
    "outputId": "33a54b84-018c-4078-8182-e8127fc645eb"
   },
   "outputs": [
    {
     "name": "stdout",
     "output_type": "stream",
     "text": [
      "Features extracted: 180\n"
     ]
    }
   ],
   "source": [
    "#Get the number of features extracted\n",
    "print(f'Features extracted: {x_train.shape[1]}')"
   ]
  },
  {
   "cell_type": "code",
   "execution_count": 66,
   "metadata": {
    "id": "bQsjvZiwqcTN"
   },
   "outputs": [],
   "source": [
    "#Initialize the Multi Layer Perceptron Classifier\n",
    "model=MLPClassifier(alpha=0.01, batch_size=256, epsilon=1e-08, hidden_layer_sizes=(300,), learning_rate='adaptive', max_iter=500)"
   ]
  },
  {
   "cell_type": "code",
   "execution_count": 67,
   "metadata": {
    "colab": {
     "base_uri": "https://localhost:8080/"
    },
    "id": "tmZiXDHPqcV5",
    "outputId": "b7d8eb01-729f-42bc-c9ca-ff87ce02540f"
   },
   "outputs": [
    {
     "data": {
      "text/html": [
       "<style>#sk-container-id-4 {color: black;}#sk-container-id-4 pre{padding: 0;}#sk-container-id-4 div.sk-toggleable {background-color: white;}#sk-container-id-4 label.sk-toggleable__label {cursor: pointer;display: block;width: 100%;margin-bottom: 0;padding: 0.3em;box-sizing: border-box;text-align: center;}#sk-container-id-4 label.sk-toggleable__label-arrow:before {content: \"▸\";float: left;margin-right: 0.25em;color: #696969;}#sk-container-id-4 label.sk-toggleable__label-arrow:hover:before {color: black;}#sk-container-id-4 div.sk-estimator:hover label.sk-toggleable__label-arrow:before {color: black;}#sk-container-id-4 div.sk-toggleable__content {max-height: 0;max-width: 0;overflow: hidden;text-align: left;background-color: #f0f8ff;}#sk-container-id-4 div.sk-toggleable__content pre {margin: 0.2em;color: black;border-radius: 0.25em;background-color: #f0f8ff;}#sk-container-id-4 input.sk-toggleable__control:checked~div.sk-toggleable__content {max-height: 200px;max-width: 100%;overflow: auto;}#sk-container-id-4 input.sk-toggleable__control:checked~label.sk-toggleable__label-arrow:before {content: \"▾\";}#sk-container-id-4 div.sk-estimator input.sk-toggleable__control:checked~label.sk-toggleable__label {background-color: #d4ebff;}#sk-container-id-4 div.sk-label input.sk-toggleable__control:checked~label.sk-toggleable__label {background-color: #d4ebff;}#sk-container-id-4 input.sk-hidden--visually {border: 0;clip: rect(1px 1px 1px 1px);clip: rect(1px, 1px, 1px, 1px);height: 1px;margin: -1px;overflow: hidden;padding: 0;position: absolute;width: 1px;}#sk-container-id-4 div.sk-estimator {font-family: monospace;background-color: #f0f8ff;border: 1px dotted black;border-radius: 0.25em;box-sizing: border-box;margin-bottom: 0.5em;}#sk-container-id-4 div.sk-estimator:hover {background-color: #d4ebff;}#sk-container-id-4 div.sk-parallel-item::after {content: \"\";width: 100%;border-bottom: 1px solid gray;flex-grow: 1;}#sk-container-id-4 div.sk-label:hover label.sk-toggleable__label {background-color: #d4ebff;}#sk-container-id-4 div.sk-serial::before {content: \"\";position: absolute;border-left: 1px solid gray;box-sizing: border-box;top: 0;bottom: 0;left: 50%;z-index: 0;}#sk-container-id-4 div.sk-serial {display: flex;flex-direction: column;align-items: center;background-color: white;padding-right: 0.2em;padding-left: 0.2em;position: relative;}#sk-container-id-4 div.sk-item {position: relative;z-index: 1;}#sk-container-id-4 div.sk-parallel {display: flex;align-items: stretch;justify-content: center;background-color: white;position: relative;}#sk-container-id-4 div.sk-item::before, #sk-container-id-4 div.sk-parallel-item::before {content: \"\";position: absolute;border-left: 1px solid gray;box-sizing: border-box;top: 0;bottom: 0;left: 50%;z-index: -1;}#sk-container-id-4 div.sk-parallel-item {display: flex;flex-direction: column;z-index: 1;position: relative;background-color: white;}#sk-container-id-4 div.sk-parallel-item:first-child::after {align-self: flex-end;width: 50%;}#sk-container-id-4 div.sk-parallel-item:last-child::after {align-self: flex-start;width: 50%;}#sk-container-id-4 div.sk-parallel-item:only-child::after {width: 0;}#sk-container-id-4 div.sk-dashed-wrapped {border: 1px dashed gray;margin: 0 0.4em 0.5em 0.4em;box-sizing: border-box;padding-bottom: 0.4em;background-color: white;}#sk-container-id-4 div.sk-label label {font-family: monospace;font-weight: bold;display: inline-block;line-height: 1.2em;}#sk-container-id-4 div.sk-label-container {text-align: center;}#sk-container-id-4 div.sk-container {/* jupyter's `normalize.less` sets `[hidden] { display: none; }` but bootstrap.min.css set `[hidden] { display: none !important; }` so we also need the `!important` here to be able to override the default hidden behavior on the sphinx rendered scikit-learn.org. See: https://github.com/scikit-learn/scikit-learn/issues/21755 */display: inline-block !important;position: relative;}#sk-container-id-4 div.sk-text-repr-fallback {display: none;}</style><div id=\"sk-container-id-4\" class=\"sk-top-container\"><div class=\"sk-text-repr-fallback\"><pre>MLPClassifier(alpha=0.01, batch_size=256, hidden_layer_sizes=(300,),\n",
       "              learning_rate=&#x27;adaptive&#x27;, max_iter=500)</pre><b>In a Jupyter environment, please rerun this cell to show the HTML representation or trust the notebook. <br />On GitHub, the HTML representation is unable to render, please try loading this page with nbviewer.org.</b></div><div class=\"sk-container\" hidden><div class=\"sk-item\"><div class=\"sk-estimator sk-toggleable\"><input class=\"sk-toggleable__control sk-hidden--visually\" id=\"sk-estimator-id-4\" type=\"checkbox\" checked><label for=\"sk-estimator-id-4\" class=\"sk-toggleable__label sk-toggleable__label-arrow\">MLPClassifier</label><div class=\"sk-toggleable__content\"><pre>MLPClassifier(alpha=0.01, batch_size=256, hidden_layer_sizes=(300,),\n",
       "              learning_rate=&#x27;adaptive&#x27;, max_iter=500)</pre></div></div></div></div></div>"
      ],
      "text/plain": [
       "MLPClassifier(alpha=0.01, batch_size=256, hidden_layer_sizes=(300,),\n",
       "              learning_rate='adaptive', max_iter=500)"
      ]
     },
     "execution_count": 67,
     "metadata": {},
     "output_type": "execute_result"
    }
   ],
   "source": [
    "#Train the model\n",
    "model.fit(x_train,y_train)"
   ]
  },
  {
   "cell_type": "code",
   "execution_count": 68,
   "metadata": {
    "id": "lumz8vRQqcYs"
   },
   "outputs": [
    {
     "data": {
      "text/plain": [
       "array(['happy', 'fearful', 'happy', 'happy', 'fearful', 'fearful',\n",
       "       'disgust', 'disgust', 'calm', 'fearful', 'happy', 'fearful',\n",
       "       'fearful', 'happy', 'disgust', 'happy', 'calm', 'disgust', 'happy',\n",
       "       'calm', 'disgust', 'disgust', 'disgust', 'calm', 'happy', 'happy',\n",
       "       'fearful', 'happy', 'fearful', 'fearful', 'happy', 'disgust',\n",
       "       'happy', 'fearful', 'happy', 'calm', 'fearful', 'fearful', 'calm',\n",
       "       'disgust', 'happy', 'disgust', 'fearful', 'calm', 'fearful',\n",
       "       'calm', 'disgust', 'calm', 'happy', 'happy', 'fearful', 'fearful',\n",
       "       'fearful', 'happy', 'happy', 'fearful', 'disgust', 'happy', 'calm',\n",
       "       'calm', 'disgust', 'calm', 'happy', 'happy', 'disgust', 'calm',\n",
       "       'fearful', 'disgust', 'fearful', 'happy', 'fearful', 'fearful',\n",
       "       'fearful', 'fearful', 'fearful', 'disgust', 'fearful', 'happy',\n",
       "       'fearful', 'fearful', 'calm', 'calm', 'fearful', 'calm', 'disgust',\n",
       "       'fearful', 'disgust', 'fearful', 'happy', 'fearful', 'disgust',\n",
       "       'fearful', 'calm', 'happy', 'disgust', 'fearful', 'calm',\n",
       "       'fearful', 'fearful', 'calm', 'fearful', 'fearful', 'disgust',\n",
       "       'fearful', 'fearful', 'calm', 'disgust', 'fearful', 'fearful',\n",
       "       'happy', 'happy', 'calm', 'fearful', 'fearful', 'fearful',\n",
       "       'disgust', 'calm', 'happy', 'calm', 'fearful', 'happy', 'calm',\n",
       "       'calm', 'happy', 'fearful', 'happy', 'disgust', 'fearful', 'calm',\n",
       "       'happy', 'fearful', 'happy', 'happy', 'disgust', 'disgust',\n",
       "       'fearful', 'fearful', 'happy', 'fearful', 'disgust', 'calm',\n",
       "       'fearful', 'disgust', 'fearful', 'happy', 'fearful', 'disgust',\n",
       "       'fearful', 'happy', 'fearful', 'calm', 'happy', 'happy', 'calm',\n",
       "       'happy', 'calm', 'fearful', 'fearful', 'calm', 'fearful',\n",
       "       'disgust', 'calm', 'happy', 'calm', 'fearful', 'fearful',\n",
       "       'fearful', 'happy', 'calm', 'fearful', 'happy', 'fearful', 'happy',\n",
       "       'disgust', 'happy', 'fearful', 'fearful', 'fearful', 'fearful',\n",
       "       'fearful', 'disgust', 'fearful', 'fearful', 'calm', 'disgust',\n",
       "       'happy', 'happy', 'fearful', 'happy', 'happy', 'disgust', 'calm'],\n",
       "      dtype='<U7')"
      ]
     },
     "execution_count": 68,
     "metadata": {},
     "output_type": "execute_result"
    }
   ],
   "source": [
    "#Predict for the test set\n",
    "y_pred=model.predict(x_test)\n",
    "y_pred"
   ]
  },
  {
   "cell_type": "code",
   "execution_count": 69,
   "metadata": {
    "colab": {
     "base_uri": "https://localhost:8080/"
    },
    "id": "IrCVcauwqkFs",
    "outputId": "89aad7da-00e2-45de-9fe5-15b5190063ca"
   },
   "outputs": [
    {
     "name": "stdout",
     "output_type": "stream",
     "text": [
      "Accuracy: 61.46%\n"
     ]
    }
   ],
   "source": [
    "#Calculate the accuracy of our model\n",
    "accuracy=accuracy_score(y_true=y_test, y_pred=y_pred)\n",
    "\n",
    "#Print the accuracy\n",
    "print(\"Accuracy: {:.2f}%\".format(accuracy*100))"
   ]
  },
  {
   "cell_type": "code",
   "execution_count": 71,
   "metadata": {
    "colab": {
     "base_uri": "https://localhost:8080/"
    },
    "id": "_Ry4if_sqkLr",
    "outputId": "20378ec2-e8f0-4bd0-bffe-1d28cd2f9e1a"
   },
   "outputs": [
    {
     "data": {
      "text/plain": [
       "array([0.62365591, 0.6097561 , 0.58181818, 0.64646465])"
      ]
     },
     "execution_count": 71,
     "metadata": {},
     "output_type": "execute_result"
    }
   ],
   "source": [
    "from sklearn.metrics import accuracy_score, f1_score\n",
    "f1_score(y_test, y_pred,average=None)"
   ]
  },
  {
   "cell_type": "code",
   "execution_count": 72,
   "metadata": {
    "colab": {
     "base_uri": "https://localhost:8080/",
     "height": 611
    },
    "id": "0Rt9YfZkCO5A",
    "outputId": "a0bff042-6fd2-466f-b043-5bb27cb96eda"
   },
   "outputs": [
    {
     "data": {
      "text/html": [
       "<div>\n",
       "<style scoped>\n",
       "    .dataframe tbody tr th:only-of-type {\n",
       "        vertical-align: middle;\n",
       "    }\n",
       "\n",
       "    .dataframe tbody tr th {\n",
       "        vertical-align: top;\n",
       "    }\n",
       "\n",
       "    .dataframe thead th {\n",
       "        text-align: right;\n",
       "    }\n",
       "</style>\n",
       "<table border=\"1\" class=\"dataframe\">\n",
       "  <thead>\n",
       "    <tr style=\"text-align: right;\">\n",
       "      <th></th>\n",
       "      <th>Actual</th>\n",
       "      <th>Predicted</th>\n",
       "    </tr>\n",
       "  </thead>\n",
       "  <tbody>\n",
       "    <tr>\n",
       "      <th>0</th>\n",
       "      <td>happy</td>\n",
       "      <td>happy</td>\n",
       "    </tr>\n",
       "    <tr>\n",
       "      <th>1</th>\n",
       "      <td>calm</td>\n",
       "      <td>fearful</td>\n",
       "    </tr>\n",
       "    <tr>\n",
       "      <th>2</th>\n",
       "      <td>happy</td>\n",
       "      <td>happy</td>\n",
       "    </tr>\n",
       "    <tr>\n",
       "      <th>3</th>\n",
       "      <td>happy</td>\n",
       "      <td>happy</td>\n",
       "    </tr>\n",
       "    <tr>\n",
       "      <th>4</th>\n",
       "      <td>disgust</td>\n",
       "      <td>fearful</td>\n",
       "    </tr>\n",
       "    <tr>\n",
       "      <th>5</th>\n",
       "      <td>calm</td>\n",
       "      <td>fearful</td>\n",
       "    </tr>\n",
       "    <tr>\n",
       "      <th>6</th>\n",
       "      <td>happy</td>\n",
       "      <td>disgust</td>\n",
       "    </tr>\n",
       "    <tr>\n",
       "      <th>7</th>\n",
       "      <td>happy</td>\n",
       "      <td>disgust</td>\n",
       "    </tr>\n",
       "    <tr>\n",
       "      <th>8</th>\n",
       "      <td>disgust</td>\n",
       "      <td>calm</td>\n",
       "    </tr>\n",
       "    <tr>\n",
       "      <th>9</th>\n",
       "      <td>happy</td>\n",
       "      <td>fearful</td>\n",
       "    </tr>\n",
       "    <tr>\n",
       "      <th>10</th>\n",
       "      <td>happy</td>\n",
       "      <td>happy</td>\n",
       "    </tr>\n",
       "    <tr>\n",
       "      <th>11</th>\n",
       "      <td>disgust</td>\n",
       "      <td>fearful</td>\n",
       "    </tr>\n",
       "    <tr>\n",
       "      <th>12</th>\n",
       "      <td>happy</td>\n",
       "      <td>fearful</td>\n",
       "    </tr>\n",
       "    <tr>\n",
       "      <th>13</th>\n",
       "      <td>happy</td>\n",
       "      <td>happy</td>\n",
       "    </tr>\n",
       "    <tr>\n",
       "      <th>14</th>\n",
       "      <td>disgust</td>\n",
       "      <td>disgust</td>\n",
       "    </tr>\n",
       "    <tr>\n",
       "      <th>15</th>\n",
       "      <td>fearful</td>\n",
       "      <td>happy</td>\n",
       "    </tr>\n",
       "    <tr>\n",
       "      <th>16</th>\n",
       "      <td>calm</td>\n",
       "      <td>calm</td>\n",
       "    </tr>\n",
       "    <tr>\n",
       "      <th>17</th>\n",
       "      <td>happy</td>\n",
       "      <td>disgust</td>\n",
       "    </tr>\n",
       "    <tr>\n",
       "      <th>18</th>\n",
       "      <td>disgust</td>\n",
       "      <td>happy</td>\n",
       "    </tr>\n",
       "    <tr>\n",
       "      <th>19</th>\n",
       "      <td>disgust</td>\n",
       "      <td>calm</td>\n",
       "    </tr>\n",
       "  </tbody>\n",
       "</table>\n",
       "</div>"
      ],
      "text/plain": [
       "     Actual Predicted\n",
       "0     happy     happy\n",
       "1      calm   fearful\n",
       "2     happy     happy\n",
       "3     happy     happy\n",
       "4   disgust   fearful\n",
       "5      calm   fearful\n",
       "6     happy   disgust\n",
       "7     happy   disgust\n",
       "8   disgust      calm\n",
       "9     happy   fearful\n",
       "10    happy     happy\n",
       "11  disgust   fearful\n",
       "12    happy   fearful\n",
       "13    happy     happy\n",
       "14  disgust   disgust\n",
       "15  fearful     happy\n",
       "16     calm      calm\n",
       "17    happy   disgust\n",
       "18  disgust     happy\n",
       "19  disgust      calm"
      ]
     },
     "execution_count": 72,
     "metadata": {},
     "output_type": "execute_result"
    }
   ],
   "source": [
    "import pandas as pd\n",
    "df=pd.DataFrame({'Actual': y_test, 'Predicted':y_pred})\n",
    "df.head(20)"
   ]
  },
  {
   "cell_type": "code",
   "execution_count": 73,
   "metadata": {
    "id": "eYPWbWLBqkN7"
   },
   "outputs": [],
   "source": [
    "import pickle\n",
    "# Writing different model files to file\n",
    "with open( 'modelForPrediction1.sav', 'wb') as f:\n",
    "    pickle.dump(model,f)"
   ]
  },
  {
   "cell_type": "code",
   "execution_count": 74,
   "metadata": {
    "colab": {
     "base_uri": "https://localhost:8080/"
    },
    "id": "dw0IfunzvqtV",
    "outputId": "255e2b31-7f43-4d83-9fd3-97a4d5e7daf4"
   },
   "outputs": [
    {
     "data": {
      "text/plain": [
       "array(['fearful'], dtype='<U7')"
      ]
     },
     "execution_count": 74,
     "metadata": {},
     "output_type": "execute_result"
    }
   ],
   "source": [
    "filename = 'modelForPrediction1.sav'\n",
    "loaded_model = pickle.load(open(filename, 'rb')) # loading the model file from the storage\n",
    "\n",
    "feature=extract_feature(\"C:/Users/Vaibhav Singh Takuli/OneDrive/Desktop/speech-emotion-recognition-ravdess-data/Actor_01/03-01-01-01-01-01-01.wav\", mfcc=True, chroma=True, mel=True)\n",
    "\n",
    "feature=feature.reshape(1,-1)\n",
    "\n",
    "prediction=loaded_model.predict(feature)\n",
    "prediction"
   ]
  },
  {
   "cell_type": "code",
   "execution_count": 75,
   "metadata": {
    "id": "grRD5MrTxOaL"
   },
   "outputs": [
    {
     "data": {
      "text/plain": [
       "array([[-6.93497009e+02,  5.00643921e+01,  5.71450770e-01,\n",
       "         1.43299656e+01,  3.33636999e+00, -2.54071975e+00,\n",
       "        -4.05790901e+00, -1.07119999e+01, -7.29414034e+00,\n",
       "         1.74018860e+00, -4.19064283e+00,  1.95466173e+00,\n",
       "        -5.24789381e+00,  2.78143024e+00, -3.16756773e+00,\n",
       "        -3.40008307e+00, -2.37803221e+00, -5.68717718e-01,\n",
       "        -6.47753382e+00, -1.24320555e+00, -2.80542493e+00,\n",
       "        -5.43635798e+00, -4.46875274e-01, -3.63516593e+00,\n",
       "        -2.98372602e+00, -5.63902497e-01, -1.65101981e+00,\n",
       "        -5.55944800e-01, -3.41018438e+00, -2.24465513e+00,\n",
       "        -3.13058877e+00, -2.70089960e+00, -1.88821304e+00,\n",
       "        -5.54154336e-01, -3.96459842e+00, -2.13485193e+00,\n",
       "        -3.94577074e+00, -1.62457895e+00, -2.03990722e+00,\n",
       "        -3.62910867e+00,  6.33734703e-01,  6.48760557e-01,\n",
       "         6.21744156e-01,  6.34553194e-01,  6.60345614e-01,\n",
       "         6.60463989e-01,  7.00949013e-01,  7.31556237e-01,\n",
       "         7.46921480e-01,  7.23420441e-01,  7.16119647e-01,\n",
       "         6.30602837e-01,  6.52830636e-07,  2.22643266e-05,\n",
       "         8.42613052e-04,  1.37719270e-02,  2.83742324e-02,\n",
       "         3.12111359e-02,  8.02663807e-03,  3.56961833e-03,\n",
       "         2.32551787e-02,  2.45211683e-02,  1.87926665e-02,\n",
       "         2.44478174e-02,  1.16031338e-02,  8.60342197e-03,\n",
       "         6.71913056e-03,  9.94843338e-03,  1.89656094e-02,\n",
       "         5.04483357e-02,  4.14051339e-02,  9.96424630e-03,\n",
       "         9.64601431e-03,  1.54170115e-02,  4.05186079e-02,\n",
       "         2.10739672e-02,  2.12946697e-03,  2.76945531e-03,\n",
       "         5.57055743e-03,  1.91831719e-02,  1.36224311e-02,\n",
       "         1.21960300e-03,  6.94197835e-04,  8.96891870e-04,\n",
       "         8.47186951e-04,  3.62369727e-04,  2.21950642e-04,\n",
       "         1.40306875e-04,  2.73740763e-04,  3.75907082e-04,\n",
       "         8.28741526e-04,  8.59786058e-04,  6.12733071e-04,\n",
       "         3.95248993e-04,  2.20409798e-04,  3.04378307e-04,\n",
       "         1.89061835e-03,  1.24956470e-03,  1.03854900e-03,\n",
       "         2.60822126e-03,  3.86649882e-03,  4.33528004e-03,\n",
       "         9.54611111e-04,  4.93530591e-04,  4.47093364e-04,\n",
       "         8.03626666e-04,  7.09871238e-04,  3.92192771e-04,\n",
       "         6.18621008e-04,  9.43593972e-04,  7.60865514e-04,\n",
       "         7.23498932e-04,  1.00387214e-03,  9.19646234e-04,\n",
       "         8.18870671e-04,  5.08129189e-04,  4.11667366e-04,\n",
       "         4.03237646e-04,  1.48571402e-04,  6.84264640e-04,\n",
       "         1.38615607e-03,  2.92808865e-04,  5.09449237e-05,\n",
       "         7.45297148e-05,  1.39878655e-04,  8.93816250e-05,\n",
       "         1.35135124e-04,  1.09651715e-04,  2.46569631e-04,\n",
       "         7.43343204e-04,  4.77164402e-04,  6.96408853e-04,\n",
       "         4.74705710e-04,  2.55434716e-04,  1.59143689e-04,\n",
       "         8.08707482e-05,  9.79213364e-05,  8.84003894e-05,\n",
       "         9.75710209e-05,  1.17046940e-04,  1.84339995e-04,\n",
       "         1.69435385e-04,  2.55545980e-04,  2.40519148e-04,\n",
       "         4.28831205e-04,  2.98486266e-04,  4.27471416e-04,\n",
       "         1.06324667e-04,  5.85673333e-05,  2.31044742e-05,\n",
       "         8.89405237e-06,  1.98013931e-05,  1.09333178e-05,\n",
       "         3.66455424e-05,  3.68459878e-05,  5.25096366e-05,\n",
       "         3.77127617e-05,  8.86667185e-05,  7.79374823e-05,\n",
       "         4.24979553e-05,  6.51855808e-05,  3.53608302e-05,\n",
       "         2.41367925e-05,  2.45215579e-05,  2.89214495e-05,\n",
       "         3.95157222e-05,  2.72971338e-05,  1.96686051e-05,\n",
       "         1.51977429e-05,  1.06007192e-05,  7.99631744e-06,\n",
       "         6.07571974e-06,  4.48540641e-06,  4.12061945e-06,\n",
       "         3.71885676e-06,  3.93320988e-06,  3.48488379e-06,\n",
       "         4.07551670e-06,  1.81608038e-06,  7.83327664e-07]])"
      ]
     },
     "execution_count": 75,
     "metadata": {},
     "output_type": "execute_result"
    }
   ],
   "source": [
    "feature"
   ]
  }
 ],
 "metadata": {
  "colab": {
   "provenance": []
  },
  "kernelspec": {
   "display_name": "Python 3 (ipykernel)",
   "language": "python",
   "name": "python3"
  },
  "language_info": {
   "codemirror_mode": {
    "name": "ipython",
    "version": 3
   },
   "file_extension": ".py",
   "mimetype": "text/x-python",
   "name": "python",
   "nbconvert_exporter": "python",
   "pygments_lexer": "ipython3",
   "version": "3.11.5"
  }
 },
 "nbformat": 4,
 "nbformat_minor": 1
}
